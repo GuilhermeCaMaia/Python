{
  "nbformat": 4,
  "nbformat_minor": 0,
  "metadata": {
    "colab": {
      "provenance": []
    },
    "kernelspec": {
      "name": "python3",
      "display_name": "Python 3"
    },
    "language_info": {
      "name": "python"
    }
  },
  "cells": [
    {
      "cell_type": "code",
      "execution_count": null,
      "metadata": {
        "id": "V1cBKPk1kim4"
      },
      "outputs": [],
      "source": [
        "import numpy as np\n",
        "import matplotlib.pyplot as grafico\n",
        "\n",
        "cont =0;\n",
        "with open(\"ex4 ia.txt\",\"r\")as arquivo:\n",
        "  dados = arquivo.read()\n",
        "  dadosSeparados = dados.split();\n",
        "  print(dados)\n",
        "\n",
        "\n",
        "for dadosSeparados in dadosSeparados:\n",
        "  print(dadosSeparados)\n"
      ]
    },
    {
      "cell_type": "code",
      "source": [
        "from numpy.core.fromnumeric import shape\n",
        "import numpy as np\n",
        "import matplotlib.pyplot as grafico\n",
        "\n",
        "# tamanho = np.arange(12)\n",
        "dados = np.loadtxt(\"ex4 ia.txt\", dtype= str)\n",
        "dados = np.split(tamanho,[13,3])\n",
        "# mes = np.split(dados[0], 3)\n",
        "TMedia = np.split(dados[1], 1)\n",
        "TMinima = np.split(dados[1], 2)\n",
        "TMaximo = np.split(dados[1], 3)\n",
        "\n",
        "print(dados)\n",
        "# print(tamanho)\n",
        "\n",
        "# dicDados = {}\n",
        "\n",
        "# TMedia = np.delete(TMedia,0)\n",
        "# TMinima = np.delete(TMinima,0)\n",
        "# TMaximo = np.delete(TMaximo,0)\n",
        "# TMedia = list(map(float,TMedia))\n",
        "# TMinima = list(map(float,TMinima))\n",
        "# TMaximo = list(map(float,TMaximo))\n",
        "\n",
        "# dicDados = np.append(TMedia,12)\n",
        "# dicDados = np.delete(dados,-1)\n",
        "# dicDados = np.append(TMinima,24)\n",
        "\n",
        "\n",
        "# print(dicDados)\n",
        "\n",
        "# for i in range(13):\n",
        "#   print(mes[i], end='  ')\n",
        "# print(\"\")\n",
        "# for i in range(13):\n",
        "#   print(TMedia[i], end='  ')"
      ],
      "metadata": {
        "colab": {
          "base_uri": "https://localhost:8080/"
        },
        "id": "pvLSr45D79Lx",
        "outputId": "ba27f2dd-da13-4b1e-a1d8-9e10315cb741"
      },
      "execution_count": null,
      "outputs": [
        {
          "output_type": "stream",
          "name": "stdout",
          "text": [
            "[array([ 0,  1,  2,  3,  4,  5,  6,  7,  8,  9, 10, 11]), array([], dtype=int64), array([ 3,  4,  5,  6,  7,  8,  9, 10, 11])]\n"
          ]
        }
      ]
    }
  ]
}